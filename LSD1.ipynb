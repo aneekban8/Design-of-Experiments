{
 "cells": [
  {
   "cell_type": "code",
   "execution_count": 1,
   "id": "c7b3626c",
   "metadata": {},
   "outputs": [
    {
     "name": "stdout",
     "output_type": "stream",
     "text": [
      "             df     sum_sq     mean_sq         F    PR(>F)\n",
      "C(Spacing)  3.0  1774.6875  591.562500  2.284209  0.178993\n",
      "C(Row)      3.0    57.6875   19.229167  0.074250  0.971627\n",
      "C(Column)   3.0   555.1875  185.062500  0.714585  0.578219\n",
      "Residual    6.0  1553.8750  258.979167       NaN       NaN\n"
     ]
    }
   ],
   "source": [
    "# -*- coding: utf-8 -*-\n",
    "\"\"\"\n",
    "Created on Wed May 29 10:05:18 2024\n",
    "\n",
    "@author: aneek\n",
    "\"\"\"\n",
    "\n",
    "import numpy as np\n",
    "import pandas as pd\n",
    "import matplotlib.pyplot as plt\n",
    "import seaborn as sns\n",
    "from scipy import stats\n",
    "import statsmodels.api as sm \n",
    "from statsmodels.formula.api import ols\n",
    "from warnings import filterwarnings\n",
    "filterwarnings('ignore')\n",
    "pd.set_option('display.max_column', None)\n",
    "T1=pd.read_csv(\"C:/Users/aneek/Documents/Upwork/DoE/LSD1.csv\")\n",
    "model = ols('Yield ~ C(Spacing)+C(Row)+C(Column)',data=T1).fit() \n",
    "result = sm.stats.anova_lm(model, type=2) \n",
    "print(result) "
   ]
  },
  {
   "cell_type": "code",
   "execution_count": null,
   "id": "18e80e61",
   "metadata": {},
   "outputs": [],
   "source": []
  }
 ],
 "metadata": {
  "kernelspec": {
   "display_name": "Python 3 (ipykernel)",
   "language": "python",
   "name": "python3"
  },
  "language_info": {
   "codemirror_mode": {
    "name": "ipython",
    "version": 3
   },
   "file_extension": ".py",
   "mimetype": "text/x-python",
   "name": "python",
   "nbconvert_exporter": "python",
   "pygments_lexer": "ipython3",
   "version": "3.11.5"
  }
 },
 "nbformat": 4,
 "nbformat_minor": 5
}
