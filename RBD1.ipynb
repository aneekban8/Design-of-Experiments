{
 "cells": [
  {
   "cell_type": "code",
   "execution_count": 1,
   "id": "25b46572",
   "metadata": {},
   "outputs": [
    {
     "name": "stdout",
     "output_type": "stream",
     "text": [
      "               df        sum_sq       mean_sq         F    PR(>F)\n",
      "C(Village)    2.0  30611.375000  15305.687500  8.695723  0.016877\n",
      "C(Treatment)  3.0  36510.086667  12170.028889  6.914240  0.022523\n",
      "Residual      6.0  10560.838333   1760.139722       NaN       NaN\n"
     ]
    }
   ],
   "source": [
    "import numpy as np\n",
    "import pandas as pd\n",
    "import matplotlib.pyplot as plt\n",
    "import seaborn as sns\n",
    "from scipy import stats\n",
    "import statsmodels.api as sm \n",
    "from statsmodels.formula.api import ols\n",
    "from warnings import filterwarnings\n",
    "filterwarnings('ignore')\n",
    "pd.set_option('display.max_column', None)\n",
    "T1=pd.read_csv(\"C:/Users/aneek/Documents/Upwork/DoE/RBD1.csv\")\n",
    "model = ols('Yield ~ C(Village) + C(Treatment)',data=T1).fit() \n",
    "result = sm.stats.anova_lm(model, type=2) \n",
    "print(result) \n",
    "\n"
   ]
  },
  {
   "cell_type": "code",
   "execution_count": null,
   "id": "7fdf9176",
   "metadata": {},
   "outputs": [],
   "source": []
  }
 ],
 "metadata": {
  "kernelspec": {
   "display_name": "Python 3 (ipykernel)",
   "language": "python",
   "name": "python3"
  },
  "language_info": {
   "codemirror_mode": {
    "name": "ipython",
    "version": 3
   },
   "file_extension": ".py",
   "mimetype": "text/x-python",
   "name": "python",
   "nbconvert_exporter": "python",
   "pygments_lexer": "ipython3",
   "version": "3.11.5"
  }
 },
 "nbformat": 4,
 "nbformat_minor": 5
}
